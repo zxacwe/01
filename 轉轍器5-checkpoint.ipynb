{
 "cells": [
  {
   "cell_type": "code",
   "execution_count": 10,
   "id": "d06d517e",
   "metadata": {},
   "outputs": [],
   "source": [
    "# Create on Wen Jul 12 23:22 2022\n",
    "\n",
    "# @author:LUI    "
   ]
  },
  {
   "cell_type": "code",
   "execution_count": 17,
   "id": "3d64c50a",
   "metadata": {
    "scrolled": true
   },
   "outputs": [],
   "source": [
    "import pandas as pd\n",
    "import numpy as np\n",
    "import os\n",
    "import matplotlib.pyplot as plt\n",
    "\n",
    "mypath = \"C:/Users/User/Documents/data/equip5/N\"\n",
    "# stores the 1st equip. raw data files\n",
    "directory = os.listdir(mypath)"
   ]
  },
  {
   "cell_type": "code",
   "execution_count": 28,
   "id": "da6ee8d0",
   "metadata": {},
   "outputs": [
    {
     "name": "stdout",
     "output_type": "stream",
     "text": [
      "Number of file 9568\n",
      "有效曲線數量為 9493\n"
     ]
    }
   ],
   "source": [
    "#統計檔案數量\n",
    "n = len(directory)\n",
    "print(\"Number of file\",n)\n",
    "\n",
    "# 建立內容為0之outcorrent、outvoltage(900,n)浮點陣列\n",
    "outcurrent = np.zeros((900,n),dtype = float)\n",
    "outvoltage = np.zeros((900,n),dtype = float)\n",
    "\n",
    "# 將檔案以file形式取出\n",
    "# 如NCurrent值>50，則為有效曲線\n",
    "i = 0\n",
    "for filename in directory:\n",
    "    with open(os.path.join(mypath,filename),'r') as file:\n",
    "        data = pd.read_csv(file)\n",
    "        if np.max(data.NCurrent)>50:\n",
    "            outcurrent[:, i] = data.NCurrent\n",
    "            outvoltage[:, i] = data.NVolt\n",
    "            i += 1\n",
    "print(\"有效曲線數量為\",i)"
   ]
  },
  {
   "cell_type": "code",
   "execution_count": 33,
   "id": "acf7be38",
   "metadata": {},
   "outputs": [],
   "source": [
    "# 計算能量power\n",
    "outpower = np.array(outcurrent*outvoltage)\n",
    "\n",
    "# 將outcurrent、outvoltage、outpower轉成dataframe形式並輸出到指定資料夾\n",
    "outcurrentdf = pd.DataFrame(outcurrent)\n",
    "outcurrentdf.to_csv(\"C:/Users/User/Documents/data/equip5/2b/outputAll9sec/outputCurrent.csv\", index=False)\n",
    "outvoltagedf = pd.DataFrame(outvoltage)\n",
    "outvoltagedf.to_csv(\"C:/Users/User/Documents/data/equip5/2b/outputAll9sec/outputVoltage.csv\", index=False)\n",
    "outpowerdf = pd.DataFrame(outpower)\n",
    "outpowerdf.to_csv(\"C:/Users/User/Documents/data/equip5/2b/outputAll9sec/outputpower.csv\", index=False)\n"
   ]
  },
  {
   "cell_type": "code",
   "execution_count": 40,
   "id": "24fdb8ce",
   "metadata": {},
   "outputs": [],
   "source": [
    "# 將三個訊號做fft轉換，分別對長度及相位計算\n",
    "# 由於頻率在450Hz對稱，故只取值到450\n",
    "from scipy.fftpack import fft\n",
    "fftcurrent = np.zeros((450,i))\n",
    "fftvoltage = np.zeros((450,i))\n",
    "fftpower   = np.zeros((450,i))\n",
    "fftcphase  = np.zeros((450, i))\n",
    "fftvphase  = np.zeros((450, i))\n",
    "fftpphase  = np.zeros((450, i))\n",
    "j = 0\n",
    "while j<i:\n",
    "    c = outcurrent[:, j]\n",
    "    v = outvoltage[:, j]\n",
    "    p = outpower[:, j]\n",
    "    temparr1 = fft(c)\n",
    "    temparr2 = fft(v)\n",
    "    temparr3 = fft(p)\n",
    "    fftcurrent[0:450,j] = np.abs(temparr1[0:450])\n",
    "    fftvoltage[0:450,j] = np.abs(temparr2[0:450])\n",
    "    fftpower[0:450,j]   = np.abs(temparr3[0:450])\n",
    "    fftcphase[0:450,j] = np.angle(temparr1[0:450])\n",
    "    fftvphase[0:450,j] = np.angle(temparr1[0:450])\n",
    "    fftpphase[0:450,j] = np.angle(temparr1[0:450])\n",
    "    j += 1"
   ]
  },
  {
   "cell_type": "code",
   "execution_count": 42,
   "id": "e3624112",
   "metadata": {},
   "outputs": [],
   "source": [
    "# 將三種複數向量之長度及相位numpy array訊號，轉成dataframe形式存到指定資料夾\n",
    "# 長度\n",
    "outcurrentfftdf = pd.DataFrame(fftcurrent[0:450,:])\n",
    "outcurrentfftdf.to_csv(\"C:/Users/User/Documents/data/equip5/2b/outputAll9sec/fftoutputCurrent.csv\", index=False)\n",
    "outvoltagefftdf = pd.DataFrame(fftvoltage[0:450,:])\n",
    "outvoltagefftdf.to_csv(\"C:/Users/User/Documents/data/equip5/2b/outputAll9sec/fftoutputVoltage.csv\", index=False)\n",
    "outpowerfftdf = pd.DataFrame(fftpower[0:450,:])\n",
    "outpowerfftdf.to_csv(\"C:/Users/User/Documents/data/equip5/2b/outputAll9sec/fftoutputpower.csv\", index=False)\n",
    "# 相位\n",
    "outcphasefftdf = pd.DataFrame(fftcphase[0:450,:])\n",
    "outcphasefftdf.to_csv(\"C:/Users/User/Documents/data/equip5/2b/outputAll9sec/outcphasefft.csv\", index=False)\n",
    "outvphasefftdf = pd.DataFrame(fftvphase[0:450,:])\n",
    "outvphasefftdf.to_csv(\"C:/Users/User/Documents/data/equip5/2b/outputAll9sec/outvphasefft.csv\", index=False)\n",
    "outpphasefftdf = pd.DataFrame(fftpphase[0:450,:])\n",
    "outpphasefftdf.to_csv(\"C:/Users/User/Documents/data/equip5/2b/outputAll9sec/outpphasefft.csv\", index=False)"
   ]
  },
  {
   "cell_type": "code",
   "execution_count": null,
   "id": "81f86a79",
   "metadata": {},
   "outputs": [],
   "source": [
    "arr1 = np.zeros(i)\n",
    "featruearr = np.array([9,10,11,20,21,22,31,32,33,55,56,57,83,113,167])\n",
    "meanstep = 200\n",
    "arr = np.zeros((15,i - meanstep),dtype = 'float')\n",
    "mm = 0\n",
    "while mm < 15:\n",
    "    kk = 0\n",
    "    "
   ]
  },
  {
   "cell_type": "code",
   "execution_count": null,
   "id": "a153ae6c",
   "metadata": {},
   "outputs": [],
   "source": []
  }
 ],
 "metadata": {
  "kernelspec": {
   "display_name": "Python (py39)",
   "language": "python",
   "name": "py39"
  },
  "language_info": {
   "codemirror_mode": {
    "name": "ipython",
    "version": 3
   },
   "file_extension": ".py",
   "mimetype": "text/x-python",
   "name": "python",
   "nbconvert_exporter": "python",
   "pygments_lexer": "ipython3",
   "version": "3.9.12"
  }
 },
 "nbformat": 4,
 "nbformat_minor": 5
}
